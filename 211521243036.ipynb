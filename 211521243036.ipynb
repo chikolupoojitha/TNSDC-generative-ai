{
  "nbformat": 4,
  "nbformat_minor": 0,
  "metadata": {
    "colab": {
      "provenance": []
    },
    "kernelspec": {
      "name": "python3",
      "display_name": "Python 3"
    },
    "language_info": {
      "name": "python"
    }
  },
  "cells": [
    {
      "cell_type": "code",
      "execution_count": null,
      "metadata": {
        "colab": {
          "base_uri": "https://localhost:8080/",
          "height": 406
        },
        "id": "ydDlZ_YPt5Lq",
        "outputId": "ea6c24c3-1dff-4b67-ae09-bc41c5fe6fe9"
      },
      "outputs": [
        {
          "output_type": "display_data",
          "data": {
            "text/plain": [
              "<Figure size 640x480 with 1 Axes>"
            ],
            "image/png": "[encoded data removed]"
          },
          "metadata": {}
        }
      ],
      "source": [
        "import numpy as np\n",
        "import tensorflow as tf\n",
        "from tensorflow.keras import layers\n",
        "\n",
        "# Define the generator model\n",
        "def make_generator_model():\n",
        "    model = tf.keras.Sequential()\n",
        "    model.add(layers.Dense(64, use_bias=False, input_shape=(100,)))\n",
        "    model.add(layers.BatchNormalization())\n",
        "    model.add(layers.LeakyReLU())\n",
        "\n",
        "    model.add(layers.Dense(128))\n",
        "    model.add(layers.BatchNormalization())\n",
        "    model.add(layers.LeakyReLU())\n",
        "\n",
        "    model.add(layers.Dense(256))\n",
        "    model.add(layers.BatchNormalization())\n",
        "    model.add(layers.LeakyReLU())\n",
        "\n",
        "    model.add(layers.Dense(512))\n",
        "    model.add(layers.BatchNormalization())\n",
        "    model.add(layers.LeakyReLU())\n",
        "\n",
        "    model.add(layers.Dense(256))\n",
        "    model.add(layers.BatchNormalization())\n",
        "    model.add(layers.LeakyReLU())\n",
        "\n",
        "    model.add(layers.Dense(128))\n",
        "    model.add(layers.BatchNormalization())\n",
        "    model.add(layers.LeakyReLU())\n",
        "\n",
        "    model.add(layers.Dense(64))\n",
        "    model.add(layers.BatchNormalization())\n",
        "    model.add(layers.LeakyReLU())\n",
        "\n",
        "    model.add(layers.Dense(32 * 32 * 3, activation='tanh'))\n",
        "    return model\n",
        "\n",
        "# Generate an emoji using the generator model\n",
        "def generate_emoji(generator_model):\n",
        "    noise = tf.random.normal([1, 100])\n",
        "    generated_emoji = generator_model(noise, training=False)\n",
        "    generator_model.add(layers.Dense(32 * 32 * 3, activation='tanh'))\n",
        "    return generated_emoji.numpy().reshape(32, 32, 3) # Assuming emoji size is 32x32x3 (width x height x channels)\n",
        "\n",
        "# Example usage\n",
        "generator = make_generator_model()\n",
        "emoji = generate_emoji(generator)\n",
        "\n",
        "# Display or save the generated emoji\n",
        "import matplotlib.pyplot as plt\n",
        "plt.imshow((emoji + 1) / 2) # Rescale the pixel values from [-1, 1] to [0, 1]\n",
        "plt.axis('off')\n",
        "plt.show()\n"
      ]
    },
    {
      "cell_type": "code",
      "source": [
        "import matplotlib.pyplot as plt"
      ],
      "metadata": {
        "id": "iJov0eztuAjY"
      },
      "execution_count": null,
      "outputs": []
    },
    {
      "cell_type": "code",
      "source": [
        "generated_emoji = generator_model(noise, training=False)\n",
        "generator_model.add(layers.Dense(32 * 32 * 3, activation='tanh'))"
      ],
      "metadata": {
        "id": "5q44AEXy9_ZQ"
      },
      "execution_count": null,
      "outputs": []
    },
    {
      "cell_type": "code",
      "source": [
        "from tensorflow.keras.layers import Dense"
      ],
      "metadata": {
        "id": "6Qxd12Y-9-Nj"
      },
      "execution_count": null,
      "outputs": []
    },
    {
      "cell_type": "code",
      "source": [
        "def generator_model():\n",
        "    model = tf.keras.Sequential()\n",
        "    model.add(Dense(128 * 7 * 7, activation=\"relu\"))\n",
        "    model.add(Reshape((7, 7, 128)))\n",
        "    model.add(UpSampling2D())\n",
        "    model.add(Conv2D(128, 3, padding=\"same\"))\n",
        "    model.add(BatchNormalization(momentum=0.8))\n",
        "    model.add(Activation(\"relu\"))\n",
        "    model.add(UpSampling2D())\n",
        "    model.add(Conv2D(64, 3, padding=\"same\"))\n",
        "    model.add(BatchNormalization(momentum=0.8))\n",
        "    model.add(Activation(\"relu\"))\n",
        "    model.add(Conv2D(3, 3, padding=\"same\"))\n",
        "    model.add(Activation(\"tanh\"))\n",
        "    return model"
      ],
      "metadata": {
        "id": "GDGEAaMg-KnW"
      },
      "execution_count": null,
      "outputs": []
    },
    {
      "cell_type": "code",
      "source": [
        "generator_model = generator_model()"
      ],
      "metadata": {
        "id": "ojYGCk6b-NxP"
      },
      "execution_count": null,
      "outputs": []
    },
    {
      "cell_type": "code",
      "source": [
        "from tensorflow.keras.layers import Dense, Reshape, UpSampling2D, Conv2D\n",
        "!pip install keras\n",
        "from keras.layers import BatchNormalization\n",
        "from tensorflow.keras.models import load_model\n",
        "from tensorflow.keras.layers import Activation"
      ],
      "metadata": {
        "colab": {
          "base_uri": "https://localhost:8080/"
        },
        "id": "1SUFx-EL-XSU",
        "outputId": "154617dd-6c4a-43c3-aa48-faf36d0eca69"
      },
      "execution_count": null,
      "outputs": [
        {
          "output_type": "stream",
          "name": "stdout",
          "text": [
            "Requirement already satisfied: keras in /usr/local/lib/python3.10/dist-packages (2.15.0)\n"
          ]
        }
      ]
    },
    {
      "cell_type": "code",
      "source": [
        "%whos"
      ],
      "metadata": {
        "colab": {
          "base_uri": "https://localhost:8080/"
        },
        "id": "sC0vIDmG-fN-",
        "outputId": "e7019a79-624f-402d-c957-4bf08cdea221"
      },
      "execution_count": null,
      "outputs": [
        {
          "output_type": "stream",
          "name": "stdout",
          "text": [
            "Variable               Type          Data/Info\n",
            "----------------------------------------------\n",
            "Activation             type          <class 'keras.src.layers.<...>e.activation.Activation'>\n",
            "BatchNormalization     type          <class 'keras.src.layers.<...>tion.BatchNormalization'>\n",
            "Conv2D                 type          <class 'keras.src.layers.<...>olutional.conv2d.Conv2D'>\n",
            "Dense                  type          <class 'keras.src.layers.core.dense.Dense'>\n",
            "Reshape                type          <class 'keras.src.layers.<...>shaping.reshape.Reshape'>\n",
            "UpSampling2D           type          <class 'keras.src.layers.<...>sampling2d.UpSampling2D'>\n",
            "generate_emoji         function      <function generate_emoji at 0x7e8b191a3370>\n",
            "generator              Sequential    <keras.src.engine.sequent<...>object at 0x7e8ba1427940>\n",
            "generator_model        Sequential    <keras.src.engine.sequent<...>object at 0x7e8b18016710>\n",
            "layers                 module        <module 'keras.api._v2.ke<...>eras/layers/__init__.py'>\n",
            "load_model             function      <function load_model at 0x7e8b1c9a7760>\n",
            "make_generator_model   function      <function make_generator_model at 0x7e8b191a3250>\n",
            "np                     module        <module 'numpy' from '/us<...>kages/numpy/__init__.py'>\n",
            "plt                    module        <module 'matplotlib.pyplo<...>es/matplotlib/pyplot.py'>\n",
            "tf                     module        <module 'tensorflow' from<...>/tensorflow/__init__.py'>\n"
          ]
        }
      ]
    },
    {
      "cell_type": "code",
      "source": [
        "noise = tf.random.normal((1, 128))"
      ],
      "metadata": {
        "id": "YThcmcry_mqx"
      },
      "execution_count": null,
      "outputs": []
    },
    {
      "cell_type": "code",
      "source": [
        "generated_emoji = generator_model(noise, training=False)"
      ],
      "metadata": {
        "id": "DO4qsyET_qO_"
      },
      "execution_count": null,
      "outputs": []
    },
    {
      "cell_type": "code",
      "source": [
        "pip install emoji"
      ],
      "metadata": {
        "id": "_2sSeEix_toP",
        "colab": {
          "base_uri": "https://localhost:8080/"
        },
        "outputId": "d53898ac-d7ce-4c3b-f874-1688987afb2b"
      },
      "execution_count": 1,
      "outputs": [
        {
          "output_type": "stream",
          "name": "stdout",
          "text": [
            "Collecting emoji\n",
            "  Downloading emoji-2.11.0-py2.py3-none-any.whl (433 kB)\n",
            "\u001b[?25l     \u001b[90m━━━━━━━━━━━━━━━━━━━━━━━━━━━━━━━━━━━━━━━━\u001b[0m \u001b[32m0.0/433.8 kB\u001b[0m \u001b[31m?\u001b[0m eta \u001b[36m-:--:--\u001b[0m\r\u001b[2K     \u001b[91m━━━━━━━━\u001b[0m\u001b[90m╺\u001b[0m\u001b[90m━━━━━━━━━━━━━━━━━━━━━━━━━━━━━━━\u001b[0m \u001b[32m92.2/433.8 kB\u001b[0m \u001b[31m2.5 MB/s\u001b[0m eta \u001b[36m0:00:01\u001b[0m\r\u001b[2K     \u001b[91m━━━━━━━━━━━━━━━━━━━━━━━━━━━━━━━━━━━\u001b[0m\u001b[91m╸\u001b[0m\u001b[90m━━━━\u001b[0m \u001b[32m389.1/433.8 kB\u001b[0m \u001b[31m5.6 MB/s\u001b[0m eta \u001b[36m0:00:01\u001b[0m\r\u001b[2K     \u001b[90m━━━━━━━━━━━━━━━━━━━━━━━━━━━━━━━━━━━━━━━━\u001b[0m \u001b[32m433.8/433.8 kB\u001b[0m \u001b[31m5.0 MB/s\u001b[0m eta \u001b[36m0:00:00\u001b[0m\n",
            "\u001b[?25hInstalling collected packages: emoji\n",
            "Successfully installed emoji-2.11.0\n"
          ]
        }
      ]
    },
    {
      "cell_type": "code",
      "source": [
        "# import emoji module\n",
        "import emoji\n",
        "\n",
        "\n",
        "print(emoji.emojize(\":grinning_face_with_big_eyes:\"))\n",
        "print(emoji.emojize(\":winking_face_with_tongue:\"))\n",
        "print(emoji.emojize(\":zipper-mouth_face:\"))"
      ],
      "metadata": {
        "colab": {
          "base_uri": "https://localhost:8080/"
        },
        "id": "D50F5A_W1ymr",
        "outputId": "31510f47-86d7-4d69-c5d2-fad7d12a0153"
      },
      "execution_count": 2,
      "outputs": [
        {
          "output_type": "stream",
          "name": "stdout",
          "text": [
            "😃\n",
            "😜\n",
            "🤐\n"
          ]
        }
      ]
    },
    {
      "cell_type": "code",
      "source": [
        "# grinning face\n",
        "print(\"\\U0001f600\")\n",
        "\n",
        "# grinning squinting face\n",
        "print(\"\\U0001F606\")\n",
        "\n",
        "# rolling on the floor laughing\n",
        "print(\"\\U0001F923\")"
      ],
      "metadata": {
        "colab": {
          "base_uri": "https://localhost:8080/"
        },
        "id": "MgBZd7G717p4",
        "outputId": "e779ddd6-bf18-4c64-a9ad-41a6a2fd49d1"
      },
      "execution_count": 3,
      "outputs": [
        {
          "output_type": "stream",
          "name": "stdout",
          "text": [
            "😀\n",
            "😆\n",
            "🤣\n"
          ]
        }
      ]
    },
    {
      "cell_type": "code",
      "source": [
        "# grinning face\n",
        "print(\"\\N{grinning face}\")\n",
        "\n",
        "# slightly smiling face\n",
        "print(\"\\N{slightly smiling face}\")\n",
        "\n",
        "# winking face\n",
        "print(\"\\N{winking face}\")\n"
      ],
      "metadata": {
        "colab": {
          "base_uri": "https://localhost:8080/"
        },
        "id": "PJFFDuCT2AQR",
        "outputId": "aac7369f-ff87-4629-e724-f2fa116bd85d"
      },
      "execution_count": 4,
      "outputs": [
        {
          "output_type": "stream",
          "name": "stdout",
          "text": [
            "😀\n",
            "🙂\n",
            "😉\n"
          ]
        }
      ]
    },
    {
      "cell_type": "code",
      "source": [
        "print(\"\\N{grinning face}\")"
      ],
      "metadata": {
        "colab": {
          "base_uri": "https://localhost:8080/"
        },
        "id": "-AOgO4X42ENm",
        "outputId": "f59299bd-a3a7-48fe-d5f1-48ccacfc92c7"
      },
      "execution_count": 5,
      "outputs": [
        {
          "output_type": "stream",
          "name": "stdout",
          "text": [
            "😀\n"
          ]
        }
      ]
    },
    {
      "cell_type": "code",
      "source": [],
      "metadata": {
        "id": "AF_Vs3wL2INY"
      },
      "execution_count": null,
      "outputs": []
    }
  ]
}